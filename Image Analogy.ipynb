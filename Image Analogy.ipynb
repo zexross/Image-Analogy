{
 "cells": [
  {
   "cell_type": "code",
   "execution_count": 82,
   "metadata": {},
   "outputs": [
    {
     "name": "stdout",
     "output_type": "stream",
     "text": [
      "(32, 40, 3)\n"
     ]
    }
   ],
   "source": [
    "import cv2\n",
    "import numpy as np,sys\n",
    "A = cv2.imread('E:\\Digital Electronics\\lf.tar\\lf\\lf-web\\images\\darkclouds.png')\n",
    "B = cv2.imread('E:\\Digital Electronics\\lf.tar\\lf\\lf-web\\images\\oxbow.png')\n",
    "# generate Gaussian pyramid for A\n",
    "G = A.copy()\n",
    "gpA = [G]\n",
    "for i in range(0,4):\n",
    "    G = cv2.pyrDown(G)\n",
    "    gpA.append(G)\n",
    "cv2.imwrite('E:\\Digital Electronics\\lf.tar\\lf\\lf-web\\images\\darkclouds3.png',gpA[3])\n",
    "size = np.shape(gpA[4])\n",
    "print(size)\n",
    "# generate Gaussian pyramid for B\n",
    "G = B.copy()\n",
    "gpB = [G]\n",
    "for i in range(0,4):\n",
    "    G = cv2.pyrDown(G)\n",
    "    gpB.append(G)"
   ]
  },
  {
   "cell_type": "code",
   "execution_count": 80,
   "metadata": {
    "scrolled": true
   },
   "outputs": [],
   "source": [
    "text = open('E:\\Image Analogies\\image data.txt' , 'w')\n",
    "send = ''.join(str(e) for e in gpA[4])\n",
    "text.write(send)\n",
    "text.close()"
   ]
  },
  {
   "cell_type": "code",
   "execution_count": null,
   "metadata": {},
   "outputs": [],
   "source": [
    "#cv2.imwrite('E:\\Digital Electronics\\lf.tar\\lf\\lf-web\\images\\darkclouds1.png',gpA)\n",
    "#cv2.imwrite('E:\\Digital Electronics\\lf.tar\\lf\\lf-web\\images\\oxbow1.png',gpB)"
   ]
  }
 ],
 "metadata": {
  "kernelspec": {
   "display_name": "Python 3",
   "language": "python",
   "name": "python3"
  },
  "language_info": {
   "codemirror_mode": {
    "name": "ipython",
    "version": 3
   },
   "file_extension": ".py",
   "mimetype": "text/x-python",
   "name": "python",
   "nbconvert_exporter": "python",
   "pygments_lexer": "ipython3",
   "version": "3.6.5"
  }
 },
 "nbformat": 4,
 "nbformat_minor": 2
}
